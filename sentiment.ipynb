{
 "cells": [
  {
   "cell_type": "code",
   "execution_count": 1,
   "metadata": {},
   "outputs": [],
   "source": [
    "import numpy as np\n",
    "import pandas as pd\n",
    "import os\n",
    "import re"
   ]
  },
  {
   "cell_type": "markdown",
   "metadata": {},
   "source": [
    "# Model"
   ]
  },
  {
   "cell_type": "markdown",
   "metadata": {},
   "source": [
    "This portion of the notebook borrows extensively from fast.ai's notebook for lesson 10 in their deep learning course part two."
   ]
  },
  {
   "cell_type": "code",
   "execution_count": 2,
   "metadata": {},
   "outputs": [],
   "source": [
    "import collections\n",
    "import html\n",
    "\n",
    "from fastai.text import *"
   ]
  },
  {
   "cell_type": "markdown",
   "metadata": {},
   "source": [
    "Define the directories we'll be using\n",
    "\n",
    "You'll need to download tweet sentiment data from kaggle - https://www.kaggle.com/c/twitter-sentiment-analysis2/data - and put it in the twitter/orignal directory"
   ]
  },
  {
   "cell_type": "code",
   "execution_count": 3,
   "metadata": {},
   "outputs": [],
   "source": [
    "BOS = 'xbos'  # beginning-of-sentence tag\n",
    "FLD = 'xfld'  # data field tag\n",
    "\n",
    "# path to our original tweet data from kaggle\n",
    "PATH = './data'"
   ]
  },
  {
   "cell_type": "code",
   "execution_count": 4,
   "metadata": {},
   "outputs": [],
   "source": [
    "# path to our classification data\n",
    "CLASSIFICATION_PATH = './classification'\n",
    "\n",
    "# path to our language model\n",
    "LANGUAGE_MODEL_PATH = './language_model'"
   ]
  },
  {
   "cell_type": "code",
   "execution_count": 5,
   "metadata": {},
   "outputs": [
    {
     "data": {
      "text/plain": [
       "'/Users/smishr2/Documents/DSF/Sentiment Analysis/twitter-celebrity-tweet-sentiment'"
      ]
     },
     "execution_count": 5,
     "metadata": {},
     "output_type": "execute_result"
    }
   ],
   "source": [
    "pwd"
   ]
  },
  {
   "cell_type": "markdown",
   "metadata": {},
   "source": [
    "start prepping our tweet data from kaggle"
   ]
  },
  {
   "cell_type": "code",
   "execution_count": 6,
   "metadata": {},
   "outputs": [],
   "source": [
    "CLASSES = ['neg', 'pos']"
   ]
  },
  {
   "cell_type": "code",
   "execution_count": 7,
   "metadata": {},
   "outputs": [],
   "source": [
    "df = pd.read_csv(PATH + '/train.csv', encoding='latin1')\n",
    "\n",
    "# shuffle rows and throw out item id column\n",
    "df = df.drop('ItemID', axis=1)\n",
    "df = df.sample(frac=1)\n",
    "\n",
    "# rename columns\n",
    "df.columns = ['labels', 'text']\n",
    "\n",
    "# split datafram into train and validation sets for later\n",
    "split_index = int(df.shape[0] * .9)\n",
    "train_df, test_df = np.split(df, [split_index], axis=0)"
   ]
  },
  {
   "cell_type": "code",
   "execution_count": 8,
   "metadata": {},
   "outputs": [
    {
     "data": {
      "text/html": [
       "<div>\n",
       "<style scoped>\n",
       "    .dataframe tbody tr th:only-of-type {\n",
       "        vertical-align: middle;\n",
       "    }\n",
       "\n",
       "    .dataframe tbody tr th {\n",
       "        vertical-align: top;\n",
       "    }\n",
       "\n",
       "    .dataframe thead th {\n",
       "        text-align: right;\n",
       "    }\n",
       "</style>\n",
       "<table border=\"1\" class=\"dataframe\">\n",
       "  <thead>\n",
       "    <tr style=\"text-align: right;\">\n",
       "      <th></th>\n",
       "      <th>labels</th>\n",
       "      <th>text</th>\n",
       "    </tr>\n",
       "  </thead>\n",
       "  <tbody>\n",
       "    <tr>\n",
       "      <th>91564</th>\n",
       "      <td>1</td>\n",
       "      <td>@chriddycent yeah I was</td>\n",
       "    </tr>\n",
       "    <tr>\n",
       "      <th>28151</th>\n",
       "      <td>1</td>\n",
       "      <td>@ableandgame That's totally spacey! I dig it</td>\n",
       "    </tr>\n",
       "    <tr>\n",
       "      <th>37956</th>\n",
       "      <td>1</td>\n",
       "      <td>@amber_benson We all definitely need more up! ...</td>\n",
       "    </tr>\n",
       "    <tr>\n",
       "      <th>92536</th>\n",
       "      <td>0</td>\n",
       "      <td>@ComcastMelissa That it is. Permits, digging, ...</td>\n",
       "    </tr>\n",
       "    <tr>\n",
       "      <th>85690</th>\n",
       "      <td>1</td>\n",
       "      <td>@ChrisHangsleben Probably not. Chris has been ...</td>\n",
       "    </tr>\n",
       "  </tbody>\n",
       "</table>\n",
       "</div>"
      ],
      "text/plain": [
       "       labels                                               text\n",
       "91564       1                           @chriddycent yeah I was \n",
       "28151       1      @ableandgame That's totally spacey! I dig it \n",
       "37956       1  @amber_benson We all definitely need more up! ...\n",
       "92536       0  @ComcastMelissa That it is. Permits, digging, ...\n",
       "85690       1  @ChrisHangsleben Probably not. Chris has been ..."
      ]
     },
     "execution_count": 8,
     "metadata": {},
     "output_type": "execute_result"
    }
   ],
   "source": [
    "df.head()"
   ]
  },
  {
   "cell_type": "markdown",
   "metadata": {},
   "source": [
    "saving our current progress"
   ]
  },
  {
   "cell_type": "code",
   "execution_count": 9,
   "metadata": {},
   "outputs": [],
   "source": [
    "# save to classification directory\n",
    "train_df.to_csv(CLASSIFICATION_PATH + '/train.csv', header=False, index=False, encoding='utf-8')\n",
    "test_df.to_csv(CLASSIFICATION_PATH + '/test.csv', header=False, index=False, encoding='utf-8')\n",
    "\n",
    "f = open(CLASSIFICATION_PATH + '/classes.txt', 'w', encoding='utf-8')\n",
    "f.writelines(f'{c}\\n' for c in CLASSES)\n",
    "f.close()\n",
    "\n",
    "# save to language model directory\n",
    "# we should be adding in the test.csv from the kaggle competition here because the language model doesn't care about labels\n",
    "# but in the interest of time I'm opting to just use the training set for the language model\n",
    "train_df.to_csv(LANGUAGE_MODEL_PATH + '/train.csv', header=False, index=False, encoding='utf-8')\n",
    "test_df.to_csv(LANGUAGE_MODEL_PATH + '/test.csv', header=False, index=False, encoding='utf-8')"
   ]
  },
  {
   "cell_type": "markdown",
   "metadata": {},
   "source": [
    "lets start cleaning some text"
   ]
  },
  {
   "cell_type": "code",
   "execution_count": 10,
   "metadata": {},
   "outputs": [],
   "source": [
    "# chunksize for pandas so it doesn't run into any memory limits\n",
    "chunksize=24000"
   ]
  },
  {
   "cell_type": "code",
   "execution_count": 11,
   "metadata": {},
   "outputs": [
    {
     "data": {
      "text/plain": [
       "(99989, 2)"
      ]
     },
     "execution_count": 11,
     "metadata": {},
     "output_type": "execute_result"
    }
   ],
   "source": [
    "df.shape"
   ]
  },
  {
   "cell_type": "code",
   "execution_count": 12,
   "metadata": {},
   "outputs": [],
   "source": [
    "## functions pulled from the fast.ai notebook for text tokenization\n",
    "\n",
    "re1 = re.compile(r'  +')\n",
    "\n",
    "def fixup(x):\n",
    "    '''some patterns identified by the fast.ai folks that spacy doesn't account for'''\n",
    "    x = x.replace('#39;', \"'\").replace('amp;', '&').replace('#146;', \"'\").replace(\n",
    "        'nbsp;', ' ').replace('#36;', '$').replace('\\\\n', \"\\n\").replace('quot;', \"'\").replace(\n",
    "        '<br />', \"\\n\").replace('\\\\\"', '\"').replace('<unk>','u_n').replace(' @.@ ','.').replace(\n",
    "        ' @-@ ','-').replace('\\\\', ' \\\\ ')\n",
    "    return re1.sub(' ', html.unescape(x))\n",
    "\n",
    "def get_texts(df, n_lbls=1):\n",
    "    labels = df.iloc[:,range(n_lbls)].values.astype(np.int64)\n",
    "    texts = f'\\n{BOS} {FLD} 1 ' + df[n_lbls].astype(str)\n",
    "    for i in range(n_lbls+1, len(df.columns)): texts += f' {FLD} {i-n_lbls} ' + df[i].astype(str)\n",
    "    texts = list(texts.apply(fixup).values)\n",
    "\n",
    "    tok = Tokenizer().proc_all_mp(partition_by_cores(texts))\n",
    "    return tok, list(labels)\n",
    "\n",
    "def get_all(df, n_lbls):\n",
    "    '''tokenize the text'''\n",
    "    tok, labels = [], []\n",
    "    for i, r in enumerate(df):\n",
    "        tok_, labels_ = get_texts(r, n_lbls)\n",
    "        tok += tok_;\n",
    "        labels += labels_\n",
    "    return tok, labels"
   ]
  },
  {
   "cell_type": "code",
   "execution_count": 13,
   "metadata": {},
   "outputs": [],
   "source": [
    "# grab our dataframes from earlier\n",
    "train_df = pd.read_csv(LANGUAGE_MODEL_PATH + '/train.csv', header=None, chunksize=chunksize)\n",
    "val_df = pd.read_csv(LANGUAGE_MODEL_PATH + '/test.csv', header=None, chunksize=chunksize)"
   ]
  },
  {
   "cell_type": "code",
   "execution_count": 14,
   "metadata": {},
   "outputs": [],
   "source": [
    "# tokenize the tweets\n",
    "train_tokens, train_labels = get_all(train_df, 1)\n",
    "val_tokens, val_labels = get_all(val_df, 1)"
   ]
  },
  {
   "cell_type": "code",
   "execution_count": 15,
   "metadata": {},
   "outputs": [],
   "source": [
    "#make temporary directory\n",
    "#os.mkdir(LANGUAGE_MODEL_PATH + '/tmp')"
   ]
  },
  {
   "cell_type": "code",
   "execution_count": 101,
   "metadata": {},
   "outputs": [
    {
     "data": {
      "text/plain": [
       "array([1, 1, 1, ..., 0, 1, 1])"
      ]
     },
     "execution_count": 101,
     "metadata": {},
     "output_type": "execute_result"
    }
   ],
   "source": [
    "train_labels"
   ]
  },
  {
   "cell_type": "code",
   "execution_count": 21,
   "metadata": {},
   "outputs": [],
   "source": [
    "# save our tokens\n",
    "np.save(LANGUAGE_MODEL_PATH + '/tmp/tok_trn.npy', train_tokens)\n",
    "np.save(LANGUAGE_MODEL_PATH + '/tmp/tok_val.npy', val_tokens)"
   ]
  },
  {
   "cell_type": "code",
   "execution_count": 22,
   "metadata": {},
   "outputs": [],
   "source": [
    "# load back in\n",
    "train_tokens = np.load(LANGUAGE_MODEL_PATH + '/tmp/tok_trn.npy')\n",
    "val_tokens = np.load(LANGUAGE_MODEL_PATH + '/tmp/tok_val.npy')"
   ]
  },
  {
   "cell_type": "code",
   "execution_count": 23,
   "metadata": {},
   "outputs": [
    {
     "data": {
      "text/plain": [
       "[('1', 90577),\n",
       " ('\\n', 90001),\n",
       " ('xbos', 89990),\n",
       " ('xfld', 89990),\n",
       " ('i', 59546),\n",
       " ('.', 48237),\n",
       " ('!', 47053),\n",
       " (',', 29244),\n",
       " ('you', 27084),\n",
       " ('the', 26883),\n",
       " ('to', 26666),\n",
       " ('a', 20764),\n",
       " ('it', 20110),\n",
       " ('t_up', 19293),\n",
       " ('?', 17671),\n",
       " ('and', 14796),\n",
       " ('that', 13158),\n",
       " ('&', 13062),\n",
       " ('...', 12921),\n",
       " ('my', 12420),\n",
       " ('is', 11434),\n",
       " ('for', 11308),\n",
       " ('/', 10971),\n",
       " (\"'s\", 10728),\n",
       " ('in', 10709)]"
      ]
     },
     "execution_count": 23,
     "metadata": {},
     "output_type": "execute_result"
    }
   ],
   "source": [
    "# lets take a look at our most common tokens\n",
    "freq = Counter(token for tokens in train_tokens for token in tokens)\n",
    "freq.most_common(25)"
   ]
  },
  {
   "cell_type": "markdown",
   "metadata": {},
   "source": [
    "looks about right.  quick note to keep in mind - the \"t_up\" token isn't in the text its self, it is a marker indicating the following token is all uppercase.\n",
    "\n",
    "fast.ai recommends that you only keep the 60,000 or so most common tokens. Reason being low frequency tokens don't help you learn a lot about a language.\n",
    "\n",
    "We don't have that many tokens for our tweets, but it makes me feel good to put in anyways ..."
   ]
  },
  {
   "cell_type": "code",
   "execution_count": 24,
   "metadata": {},
   "outputs": [],
   "source": [
    "max_vocab = 60000\n",
    "min_freq = 2\n",
    "\n",
    "int_to_token = [o for o, c in freq.most_common(max_vocab) if c > min_freq]\n",
    "int_to_token.insert(0, '_pad_')\n",
    "int_to_token.insert(0, '_unk_')"
   ]
  },
  {
   "cell_type": "code",
   "execution_count": 25,
   "metadata": {},
   "outputs": [
    {
     "data": {
      "text/plain": [
       "20080"
      ]
     },
     "execution_count": 25,
     "metadata": {},
     "output_type": "execute_result"
    }
   ],
   "source": [
    "token_to_int = collections.defaultdict(lambda: 0, {v: k for k, v in enumerate(int_to_token)})\n",
    "len(int_to_token)"
   ]
  },
  {
   "cell_type": "code",
   "execution_count": 26,
   "metadata": {},
   "outputs": [],
   "source": [
    "train_lm = np.array([[token_to_int[o] for o in p] for p in train_tokens])\n",
    "val_lm = np.array([[token_to_int[o] for o in p] for p in val_tokens])"
   ]
  },
  {
   "cell_type": "code",
   "execution_count": 29,
   "metadata": {},
   "outputs": [
    {
     "data": {
      "text/plain": [
       "[3, 4, 5, 2, 8906, 18, 25, 366, 14906, 8, 6, 2401, 14]"
      ]
     },
     "execution_count": 29,
     "metadata": {},
     "output_type": "execute_result"
    }
   ],
   "source": [
    "train_lm[1]"
   ]
  },
  {
   "cell_type": "code",
   "execution_count": 30,
   "metadata": {},
   "outputs": [],
   "source": [
    "# saving our progress\n",
    "np.save(LANGUAGE_MODEL_PATH + '/tmp/trn_ids.npy', train_lm)\n",
    "np.save(LANGUAGE_MODEL_PATH + '/tmp/val_ids.npy', val_lm)\n",
    "\n",
    "pickle.dump(int_to_token, open(LANGUAGE_MODEL_PATH + '/tmp/itos.pkl', 'wb'))"
   ]
  },
  {
   "cell_type": "code",
   "execution_count": 31,
   "metadata": {},
   "outputs": [],
   "source": [
    "# loading back in\n",
    "train_lm = np.load(LANGUAGE_MODEL_PATH + '/tmp/trn_ids.npy')\n",
    "val_lm = np.load(LANGUAGE_MODEL_PATH + '/tmp/val_ids.npy')\n",
    "int_to_token = pickle.load(open(LANGUAGE_MODEL_PATH + '/tmp/itos.pkl', 'rb'))"
   ]
  },
  {
   "cell_type": "code",
   "execution_count": 32,
   "metadata": {},
   "outputs": [
    {
     "data": {
      "text/plain": [
       "(20080, 89990)"
      ]
     },
     "execution_count": 32,
     "metadata": {},
     "output_type": "execute_result"
    }
   ],
   "source": [
    "num_twitter_tokens = len(int_to_token)\n",
    "num_twitter_tokens, len(train_lm)"
   ]
  },
  {
   "cell_type": "markdown",
   "metadata": {},
   "source": [
    "### load in a pretrained language model trained on wikipedia text"
   ]
  },
  {
   "cell_type": "markdown",
   "metadata": {},
   "source": [
    "run this line to download wikipedia model"
   ]
  },
  {
   "cell_type": "code",
   "execution_count": 25,
   "metadata": {},
   "outputs": [],
   "source": [
    "#! wget -nH -r -np -P {PATH} http://files.fast.ai/models/wt103/"
   ]
  },
  {
   "cell_type": "code",
   "execution_count": 44,
   "metadata": {},
   "outputs": [],
   "source": [
    "# some stats from the wikepedia model\n",
    "embedding_size, num_hidden, num_layers = 400,1150,3"
   ]
  },
  {
   "cell_type": "code",
   "execution_count": 45,
   "metadata": {},
   "outputs": [],
   "source": [
    "PRE_PATH = './data/models/wt103/'\n",
    "PRE_LM_PATH = PRE_PATH + '/fwd_wt103.h5'"
   ]
  },
  {
   "cell_type": "code",
   "execution_count": 46,
   "metadata": {},
   "outputs": [],
   "source": [
    "# grab the weights from the encoder\n",
    "weights = torch.load(PRE_LM_PATH, map_location=lambda storage, loc: storage)"
   ]
  },
  {
   "cell_type": "markdown",
   "metadata": {},
   "source": [
    "The mean of the weights from layer 0 can be used to assign weights to tokens that exist in the wikipedia dataset but not in the twitter dataset"
   ]
  },
  {
   "cell_type": "code",
   "execution_count": 47,
   "metadata": {},
   "outputs": [],
   "source": [
    "encoder_weights = to_np(weights['0.encoder.weight'])\n",
    "# row_m = enc_wgts.mean(0)\n",
    "encoder_mean = encoder_weights.mean(0)"
   ]
  },
  {
   "cell_type": "code",
   "execution_count": 48,
   "metadata": {},
   "outputs": [],
   "source": [
    "wiki_int_to_token = pickle.load(open(PRE_PATH + '/itos_wt103.pkl', 'rb'))\n",
    "wiki_token_to_int = collections.defaultdict(lambda: -1, {v:k for k, v in enumerate(wiki_int_to_token)})"
   ]
  },
  {
   "cell_type": "markdown",
   "metadata": {},
   "source": [
    "We need to assign mean weights to tokens that exist in our twitter dataset that dont in the wikipedia dataset the pretrained model was trained on."
   ]
  },
  {
   "cell_type": "code",
   "execution_count": 49,
   "metadata": {},
   "outputs": [],
   "source": [
    "new_weights = np.zeros((num_twitter_tokens, embedding_size), dtype=np.float32)\n",
    "for i, w in enumerate(int_to_token):\n",
    "    r = wiki_token_to_int[w]\n",
    "    new_weights[i] = encoder_weights[r] if r >= 0 else encoder_mean"
   ]
  },
  {
   "cell_type": "markdown",
   "metadata": {},
   "source": [
    "We now need to put the new weights into the pretrained model\n",
    "\n",
    "The weights between the encoder and decoder also need to be tied together"
   ]
  },
  {
   "cell_type": "code",
   "execution_count": 50,
   "metadata": {},
   "outputs": [],
   "source": [
    "weights['0.encoder.weight'] = T(new_weights)\n",
    "weights['0.encoder_with_dropout.embed.weight'] = T(np.copy(new_weights))\n",
    "weights['1.decoder.weight'] = T(np.copy(new_weights))"
   ]
  },
  {
   "cell_type": "markdown",
   "metadata": {},
   "source": [
    "### Retraining the wikipedia language model"
   ]
  },
  {
   "cell_type": "code",
   "execution_count": 51,
   "metadata": {},
   "outputs": [],
   "source": [
    "wd=1e-7 # weight decay\n",
    "bptt=70 # ngram size.  i.e. the model sees ~70 tokens and then tries to predict the 71st\n",
    "bs=52 # batch size\n",
    "opt_fn = partial(optim.Adam, betas=(0.8, 0.99)) # optimazation function"
   ]
  },
  {
   "cell_type": "markdown",
   "metadata": {},
   "source": [
    "Here we define a special fastai data loader, the `LanguageModelLoader`, to feed the training data into the model whilst training.\n",
    "\n",
    "We can then use those to instanciate a `LanguageModelData` class that returns a fastai model we can train"
   ]
  },
  {
   "cell_type": "code",
   "execution_count": 52,
   "metadata": {},
   "outputs": [],
   "source": [
    "train_dl = LanguageModelLoader(np.concatenate(train_lm), bs, bptt)\n",
    "val_dl = LanguageModelLoader(np.concatenate(val_lm), bs, bptt)\n",
    "\n",
    "md = LanguageModelData(PATH, 1, num_twitter_tokens, train_dl, val_dl, bs=bs, bptt=bptt)"
   ]
  },
  {
   "cell_type": "code",
   "execution_count": 53,
   "metadata": {},
   "outputs": [],
   "source": [
    "# the dropouts for each layer.\n",
    "drops = np.array([0.25, 0.1, 0.2, 0.02, 0.15])*0.7"
   ]
  },
  {
   "cell_type": "markdown",
   "metadata": {},
   "source": [
    "The last embedding layer needs to be tuned first so the new weights we set for the pretrained model get tuned properly.\n",
    "\n",
    "fastai allows you to freeze and unfreeze model layers.  So here we freeze everything but the weights in the last embedding layer"
   ]
  },
  {
   "cell_type": "code",
   "execution_count": 54,
   "metadata": {},
   "outputs": [],
   "source": [
    "learner = md.get_model(\n",
    "    opt_fn, embedding_size, num_hidden, num_layers, dropouti=drops[0], dropout=drops[1],\n",
    "    wdrop=drops[2], dropoute=drops[3], dropouth=drops[4]\n",
    ")\n",
    "\n",
    "learner.metrics = [accuracy]\n",
    "\n",
    "# freeze everything except last layer\n",
    "learner.freeze_to(-1)"
   ]
  },
  {
   "cell_type": "code",
   "execution_count": 55,
   "metadata": {},
   "outputs": [],
   "source": [
    "# load the weights\n",
    "learner.model.load_state_dict(weights)"
   ]
  },
  {
   "cell_type": "code",
   "execution_count": 56,
   "metadata": {},
   "outputs": [],
   "source": [
    "lr = 1e-3 # learning rate\n",
    "lrs = lr"
   ]
  },
  {
   "cell_type": "code",
   "execution_count": 38,
   "metadata": {},
   "outputs": [
    {
     "data": {
      "application/vnd.jupyter.widget-view+json": {
       "model_id": "389bf389f28845729295335140269de7",
       "version_major": 2,
       "version_minor": 0
      },
      "text/plain": [
       "HBox(children=(IntProgress(value=0, description='Epoch', max=2), HTML(value='')))"
      ]
     },
     "metadata": {},
     "output_type": "display_data"
    },
    {
     "name": "stdout",
     "output_type": "stream",
     "text": [
      "epoch      trn_loss   val_loss   accuracy                    \n",
      "    0      5.128027   4.749577   0.259888  \n",
      "    1      4.611565   4.312227   0.302508                     \n",
      "\n"
     ]
    },
    {
     "data": {
      "text/plain": [
       "[array([4.31223]), 0.30250794771316897]"
      ]
     },
     "execution_count": 38,
     "metadata": {},
     "output_type": "execute_result"
    }
   ],
   "source": [
    "learner.fit(lrs/2, 1, wds=wd, use_clr=(32,2), cycle_len=2)"
   ]
  },
  {
   "cell_type": "code",
   "execution_count": 57,
   "metadata": {},
   "outputs": [],
   "source": [
    "# save our progress\n",
    "learner.save('lm_last_ft')"
   ]
  },
  {
   "cell_type": "code",
   "execution_count": 58,
   "metadata": {},
   "outputs": [],
   "source": [
    "# load back in\n",
    "learner.load('lm_last_ft')"
   ]
  },
  {
   "cell_type": "code",
   "execution_count": 59,
   "metadata": {},
   "outputs": [],
   "source": [
    "# now with our new embedding weights trained up, we can unfreeze and train all layers\n",
    "learner.unfreeze()"
   ]
  },
  {
   "cell_type": "code",
   "execution_count": 60,
   "metadata": {},
   "outputs": [
    {
     "data": {
      "application/vnd.jupyter.widget-view+json": {
       "model_id": "e5d19f15722f46049c2306d371cdf8f0",
       "version_major": 2,
       "version_minor": 0
      },
      "text/plain": [
       "HBox(children=(IntProgress(value=0, description='Epoch', max=1), HTML(value='')))"
      ]
     },
     "metadata": {},
     "output_type": "display_data"
    },
    {
     "name": "stdout",
     "output_type": "stream",
     "text": [
      "epoch      trn_loss   val_loss   accuracy                     \n",
      "    0      4.285684   4.129448   0.32429   \n",
      "\n"
     ]
    }
   ],
   "source": [
    "# to find our learning rate\n",
    "learner.lr_find(start_lr=lrs/10, end_lr=lrs*50, linear=True)"
   ]
  },
  {
   "cell_type": "code",
   "execution_count": 61,
   "metadata": {},
   "outputs": [
    {
     "data": {
      "image/png": "[encoded data removed]",
      "text/plain": [
       "<Figure size 432x288 with 1 Axes>"
      ]
     },
     "metadata": {},
     "output_type": "display_data"
    }
   ],
   "source": [
    "learner.sched.plot()"
   ]
  },
  {
   "cell_type": "code",
   "execution_count": 62,
   "metadata": {},
   "outputs": [],
   "source": [
    "# looks like 10-2 or 10-3 or so could be a good learning rate for us"
   ]
  },
  {
   "cell_type": "code",
   "execution_count": 63,
   "metadata": {},
   "outputs": [
    {
     "data": {
      "application/vnd.jupyter.widget-view+json": {
       "model_id": "a357cafe25fb4456b78235055df6795c",
       "version_major": 2,
       "version_minor": 0
      },
      "text/plain": [
       "HBox(children=(IntProgress(value=0, description='Epoch', max=1), HTML(value='')))"
      ]
     },
     "metadata": {},
     "output_type": "display_data"
    },
    {
     "name": "stdout",
     "output_type": "stream",
     "text": [
      "epoch      trn_loss   val_loss   accuracy                       \n",
      "    0      4.000149   3.767024   0.362975  \n",
      "\n"
     ]
    },
    {
     "data": {
      "text/plain": [
       "[array([3.76702]), 0.36297513453356]"
      ]
     },
     "execution_count": 63,
     "metadata": {},
     "output_type": "execute_result"
    }
   ],
   "source": [
    "learner.fit(lrs, 1, wds=wd, use_clr=(20,10), cycle_len=1)"
   ]
  },
  {
   "cell_type": "code",
   "execution_count": 64,
   "metadata": {},
   "outputs": [],
   "source": [
    "# save our progress\n",
    "learner.save('lm1')\n",
    "learner.save_encoder('lm1_enc')"
   ]
  },
  {
   "cell_type": "code",
   "execution_count": 65,
   "metadata": {},
   "outputs": [
    {
     "data": {
      "image/png": "[encoded data removed]",
      "text/plain": [
       "<Figure size 432x288 with 1 Axes>"
      ]
     },
     "metadata": {},
     "output_type": "display_data"
    }
   ],
   "source": [
    "# taking a look at our loss\n",
    "learner.sched.plot_loss()"
   ]
  },
  {
   "cell_type": "markdown",
   "metadata": {},
   "source": [
    "## Tweet Sentiment Classifier"
   ]
  },
  {
   "cell_type": "markdown",
   "metadata": {},
   "source": [
    "Now that we have our language model trained on tweets, we can start training our tweet sentiment classifier\n",
    "\n",
    "To do this all we have to do is tack on a layer to our trained encoder."
   ]
  },
  {
   "cell_type": "code",
   "execution_count": 66,
   "metadata": {},
   "outputs": [],
   "source": [
    "train_df = pd.read_csv(CLASSIFICATION_PATH + '/train.csv', header=None, chunksize=chunksize)\n",
    "val_df = pd.read_csv(CLASSIFICATION_PATH + '/test.csv', header=None, chunksize=chunksize)\n",
    "\n",
    "# do the same cleaning we did for the language model\n",
    "train_tokens, train_labels = get_all(train_df, 1)\n",
    "val_tokens, val_labels = get_all(val_df, 1)\n",
    "\n",
    "# make temp directory in classifier directory\n",
    "os.mkdir(CLASSIFICATION_PATH + '/tmp')\n",
    "\n",
    "# save tokens\n",
    "np.save(CLASSIFICATION_PATH + '/tmp/tok_trn.npy', train_tokens)\n",
    "np.save(CLASSIFICATION_PATH + '/tmp/tok_val.npy', val_tokens)\n",
    "\n",
    "np.save(CLASSIFICATION_PATH + '/tmp/trn_labels.npy', train_labels)\n",
    "np.save(CLASSIFICATION_PATH + '/tmp/val_labels.npy', val_labels)\n",
    "\n",
    "# load back in \n",
    "train_tokens = np.load(CLASSIFICATION_PATH + '/tmp/tok_trn.npy')\n",
    "val_tokens = np.load(CLASSIFICATION_PATH + '/tmp/tok_val.npy')\n",
    "\n",
    "int_to_token = pickle.load(open(LANGUAGE_MODEL_PATH + '/tmp/itos.pkl', 'rb'))\n",
    "token_to_int = collections.defaultdict(lambda: 0, {v:k for k, v in enumerate(int_to_token)})\n",
    "len(int_to_token)\n",
    "\n",
    "train_classification = np.array([[token_to_int[o] for o in p] for p in train_tokens])\n",
    "val_classification = np.array([[token_to_int[o] for o in p] for p in val_tokens])\n",
    "\n",
    "np.save(CLASSIFICATION_PATH + '/tmp/trn_ids.npy', train_classification)\n",
    "np.save(CLASSIFICATION_PATH + '/tmp/val_ids.npy', val_classification)\n",
    "\n",
    "# load back in \n",
    "train_classification = np.load(CLASSIFICATION_PATH + '/tmp/trn_ids.npy')\n",
    "val_classification = np.load(CLASSIFICATION_PATH + '/tmp/val_ids.npy')\n",
    "\n",
    "train_labels = np.squeeze(np.load(CLASSIFICATION_PATH + '/tmp/trn_labels.npy'))\n",
    "val_labels = np.squeeze(np.load(CLASSIFICATION_PATH + '/tmp/val_labels.npy'))\n",
    "\n",
    "# params\n",
    "bptt, embedding_size, num_hidden, num_layers = 70, 400, 1150, 3\n",
    "num_tokens = len(int_to_token)\n",
    "opt_fn = partial(optim.Adam, betas=(0.8, 0.99))\n",
    "bs = 48\n",
    "\n",
    "min_label = train_labels.min()\n",
    "train_labels -= min_label\n",
    "val_labels -= min_label\n",
    "c = int(train_labels.max()) + 1\n",
    "\n",
    "train_ds = TextDataset(train_classification, train_labels)\n",
    "val_ds = TextDataset(val_classification, val_labels)\n",
    "\n",
    "# the sortish sampler helps by sorting things kinda sorta by their token length so padding isn't crazy\n",
    "train_sampler = SortishSampler(train_classification, key=lambda x: len(train_classification[x]), bs=bs//2)\n",
    "# doesn't matter so much for the validation set\n",
    "val_sampler = SortSampler(val_classification, key=lambda x: len(val_classification[x]))\n",
    "\n",
    "# get data loaders\n",
    "train_dl = DataLoader(train_ds, bs//2, transpose=True, num_workers=1, pad_idx=1, sampler=train_sampler)\n",
    "val_dl = DataLoader(val_ds, bs, transpose=True, num_workers=1, pad_idx=1, sampler=val_sampler)\n",
    "\n",
    "# model data\n",
    "md = ModelData(PATH, train_dl, val_dl)\n",
    "\n",
    "# part 1\n",
    "dps = np.array([0.4, 0.5, 0.05, 0.3, 0.1])"
   ]
  },
  {
   "cell_type": "code",
   "execution_count": 80,
   "metadata": {},
   "outputs": [],
   "source": [
    "# part 2\n",
    "dps = np.array([0.4,0.5,0.05,0.3,0.4])*0.5"
   ]
  },
  {
   "cell_type": "code",
   "execution_count": 81,
   "metadata": {},
   "outputs": [],
   "source": [
    "m = get_rnn_classifier(bptt, 20*70, c, num_tokens, emb_sz=embedding_size, n_hid=num_hidden, n_layers=num_layers,\n",
    "                       pad_token=1, layers=[embedding_size*3, 50, c], drops=[dps[4], 0.1], dropouti=dps[0],\n",
    "                       wdrop=dps[1], dropoute=dps[2], dropouth=dps[3])"
   ]
  },
  {
   "cell_type": "code",
   "execution_count": 82,
   "metadata": {},
   "outputs": [],
   "source": [
    "opt_fn = partial(optim.Adam, betas=(0.7, 0.99))"
   ]
  },
  {
   "cell_type": "code",
   "execution_count": 83,
   "metadata": {},
   "outputs": [],
   "source": [
    "learn = RNN_Learner(md, TextModel(to_gpu(m)), opt_fn=opt_fn)\n",
    "learn.reg_fn = partial(seq2seq_reg, alpha=2, beta=1)\n",
    "learn.clip=25.\n",
    "learn.metrics = [accuracy]"
   ]
  },
  {
   "cell_type": "code",
   "execution_count": 84,
   "metadata": {},
   "outputs": [],
   "source": [
    "lr=3e-3\n",
    "lrm = 2.6\n",
    "lrs = np.array([lr/(lrm**4), lr/(lrm**3), lr/(lrm**2), lr/lrm, lr]) # differential learning rates"
   ]
  },
  {
   "cell_type": "code",
   "execution_count": 85,
   "metadata": {},
   "outputs": [],
   "source": [
    "# lrs=np.array([1e-4,1e-4,1e-4,1e-3,1e-2])"
   ]
  },
  {
   "cell_type": "markdown",
   "metadata": {},
   "source": [
    "load our encoder from our tweet language model"
   ]
  },
  {
   "cell_type": "code",
   "execution_count": 86,
   "metadata": {},
   "outputs": [],
   "source": [
    "wd = 1e-7\n",
    "wd = 0\n",
    "learn.load_encoder('lm1_enc')"
   ]
  },
  {
   "cell_type": "code",
   "execution_count": 87,
   "metadata": {},
   "outputs": [],
   "source": [
    "# freeze all except last layer\n",
    "learn.freeze_to(-1)"
   ]
  },
  {
   "cell_type": "code",
   "execution_count": 88,
   "metadata": {},
   "outputs": [
    {
     "data": {
      "application/vnd.jupyter.widget-view+json": {
       "model_id": "18f449b93a334c43983d9e7867a457b0",
       "version_major": 2,
       "version_minor": 0
      },
      "text/plain": [
       "HBox(children=(IntProgress(value=0, description='Epoch', max=1), HTML(value='')))"
      ]
     },
     "metadata": {},
     "output_type": "display_data"
    },
    {
     "name": "stdout",
     "output_type": "stream",
     "text": [
      " 79%|███████▉  | 2977/3750 [25:04<06:30,  1.98it/s, loss=2.01] "
     ]
    },
    {
     "data": {
      "image/png": "[encoded data removed]",
      "text/plain": [
       "<Figure size 432x288 with 1 Axes>"
      ]
     },
     "metadata": {},
     "output_type": "display_data"
    }
   ],
   "source": [
    "# to find learning rate\n",
    "learn.lr_find(lrs/1000)\n",
    "learn.sched.plot()"
   ]
  },
  {
   "cell_type": "code",
   "execution_count": 89,
   "metadata": {},
   "outputs": [],
   "source": [
    "# little tough to tell here, but we'll go with what we set previously and what fastai used for their imdb dataset"
   ]
  },
  {
   "cell_type": "code",
   "execution_count": 90,
   "metadata": {},
   "outputs": [
    {
     "data": {
      "application/vnd.jupyter.widget-view+json": {
       "model_id": "830a1af76b1e4b8d83b43da2b31352d1",
       "version_major": 2,
       "version_minor": 0
      },
      "text/plain": [
       "HBox(children=(IntProgress(value=0, description='Epoch', max=1), HTML(value='')))"
      ]
     },
     "metadata": {},
     "output_type": "display_data"
    },
    {
     "name": "stdout",
     "output_type": "stream",
     "text": [
      "epoch      trn_loss   val_loss   accuracy                      \n",
      "    0      0.541103   0.505741   0.754075  \n"
     ]
    },
    {
     "data": {
      "text/plain": [
       "[array([0.50574]), 0.7540754075407541]"
      ]
     },
     "execution_count": 90,
     "metadata": {},
     "output_type": "execute_result"
    }
   ],
   "source": [
    "learn.fit(lrs, 1, wds=wd, cycle_len=1, use_clr=(8,3))"
   ]
  },
  {
   "cell_type": "code",
   "execution_count": 91,
   "metadata": {},
   "outputs": [],
   "source": [
    "# save our first classifier\n",
    "learn.save('clas_0')"
   ]
  },
  {
   "cell_type": "code",
   "execution_count": 92,
   "metadata": {},
   "outputs": [],
   "source": [
    "# load it back in\n",
    "learn.load('clas_0')"
   ]
  },
  {
   "cell_type": "code",
   "execution_count": 93,
   "metadata": {},
   "outputs": [],
   "source": [
    "# unfreeze one more layer\n",
    "learn.freeze_to(-2)"
   ]
  },
  {
   "cell_type": "code",
   "execution_count": 94,
   "metadata": {},
   "outputs": [
    {
     "data": {
      "application/vnd.jupyter.widget-view+json": {
       "model_id": "9239f21dc8634957ab708522998dbbae",
       "version_major": 2,
       "version_minor": 0
      },
      "text/plain": [
       "HBox(children=(IntProgress(value=0, description='Epoch', max=1), HTML(value='')))"
      ]
     },
     "metadata": {},
     "output_type": "display_data"
    },
    {
     "name": "stdout",
     "output_type": "stream",
     "text": [
      "epoch      trn_loss   val_loss   accuracy                      \n",
      "    0      0.522904   0.461635   0.781778  \n"
     ]
    },
    {
     "data": {
      "text/plain": [
       "[array([0.46163]), 0.7817781778177818]"
      ]
     },
     "execution_count": 94,
     "metadata": {},
     "output_type": "execute_result"
    }
   ],
   "source": [
    "learn.fit(lrs, 1, wds=wd, cycle_len=1, use_clr=(8,3))"
   ]
  },
  {
   "cell_type": "code",
   "execution_count": 95,
   "metadata": {},
   "outputs": [],
   "source": [
    "# save our second classifier\n",
    "learn.save('clas_1')"
   ]
  },
  {
   "cell_type": "code",
   "execution_count": 96,
   "metadata": {},
   "outputs": [],
   "source": [
    "# load it back in\n",
    "learn.load('clas_1')"
   ]
  },
  {
   "cell_type": "code",
   "execution_count": 97,
   "metadata": {},
   "outputs": [],
   "source": [
    "# unfreeze all layers so we're training the whole network\n",
    "learn.unfreeze()"
   ]
  },
  {
   "cell_type": "code",
   "execution_count": 98,
   "metadata": {},
   "outputs": [
    {
     "data": {
      "application/vnd.jupyter.widget-view+json": {
       "model_id": "f3bbed1ed82f4bfa837463aec5453641",
       "version_major": 2,
       "version_minor": 0
      },
      "text/plain": [
       "HBox(children=(IntProgress(value=0, description='Epoch', max=1), HTML(value='')))"
      ]
     },
     "metadata": {},
     "output_type": "display_data"
    },
    {
     "name": "stdout",
     "output_type": "stream",
     "text": [
      "epoch      trn_loss   val_loss   accuracy                          \n",
      "    0      0.476422   0.419726   0.80408   \n"
     ]
    },
    {
     "data": {
      "text/plain": [
       "[array([0.41973]), 0.804080408040804]"
      ]
     },
     "execution_count": 98,
     "metadata": {},
     "output_type": "execute_result"
    }
   ],
   "source": [
    "learn.fit(lrs, 1, wds=wd, cycle_len=1, use_clr=(32,10))"
   ]
  },
  {
   "cell_type": "code",
   "execution_count": 99,
   "metadata": {},
   "outputs": [
    {
     "data": {
      "image/png": "[encoded data removed]",
      "text/plain": [
       "<Figure size 432x288 with 1 Axes>"
      ]
     },
     "metadata": {},
     "output_type": "display_data"
    }
   ],
   "source": [
    "# plot out our loss\n",
    "learn.sched.plot_loss()"
   ]
  },
  {
   "cell_type": "code",
   "execution_count": 100,
   "metadata": {},
   "outputs": [],
   "source": [
    "# save our final classifier\n",
    "learn.save('clas_2')"
   ]
  },
  {
   "cell_type": "markdown",
   "metadata": {},
   "source": [
    "# Celebrity tweet sentiment"
   ]
  },
  {
   "cell_type": "code",
   "execution_count": 29,
   "metadata": {},
   "outputs": [],
   "source": [
    "learn.load('clas_2')"
   ]
  },
  {
   "cell_type": "code",
   "execution_count": 30,
   "metadata": {},
   "outputs": [],
   "source": [
    "# load our celebrity tweets\n",
    "celebrity_df = pd.read_csv('/home/ubuntu/data/twitter/celebrity_tweets.csv', header=None)"
   ]
  },
  {
   "cell_type": "code",
   "execution_count": 31,
   "metadata": {},
   "outputs": [],
   "source": [
    "celebrity_tokens, _ = get_texts(celebrity_df, 0)"
   ]
  },
  {
   "cell_type": "code",
   "execution_count": 32,
   "metadata": {},
   "outputs": [
    {
     "data": {
      "text/plain": [
       "15833"
      ]
     },
     "execution_count": 32,
     "metadata": {},
     "output_type": "execute_result"
    }
   ],
   "source": [
    "int_to_token = pickle.load(open(LANGUAGE_MODEL_PATH + '/tmp/itos.pkl', 'rb'))\n",
    "token_to_int = collections.defaultdict(lambda: 0, {v:k for k, v in enumerate(int_to_token)})\n",
    "len(int_to_token)"
   ]
  },
  {
   "cell_type": "code",
   "execution_count": 104,
   "metadata": {},
   "outputs": [
    {
     "ename": "NameError",
     "evalue": "name 'celebrity_classification' is not defined",
     "output_type": "error",
     "traceback": [
      "\u001b[0;31m---------------------------------------------------------------------------\u001b[0m",
      "\u001b[0;31mNameError\u001b[0m                                 Traceback (most recent call last)",
      "\u001b[0;32m<ipython-input-104-df5a33896f80>\u001b[0m in \u001b[0;36m<module>\u001b[0;34m()\u001b[0m\n\u001b[0;32m----> 1\u001b[0;31m \u001b[0mcelebrity_classification\u001b[0m\u001b[0;34m\u001b[0m\u001b[0m\n\u001b[0m",
      "\u001b[0;31mNameError\u001b[0m: name 'celebrity_classification' is not defined"
     ]
    }
   ],
   "source": [
    "celebrity_classification"
   ]
  },
  {
   "cell_type": "code",
   "execution_count": 33,
   "metadata": {},
   "outputs": [],
   "source": [
    "celebrity_classification = np.array([[token_to_int[o] for o in p] for p in celebrity_tokens])"
   ]
  },
  {
   "cell_type": "code",
   "execution_count": 34,
   "metadata": {},
   "outputs": [],
   "source": [
    "celebrity_ds = TextDataset(celebrity_classification, np.zeros(len(celebrity_classification), dtype=int))\n",
    "\n",
    "celebrity_dl = DataLoader(celebrity_ds, bs, transpose=True, num_workers=1, pad_idx=1)"
   ]
  },
  {
   "cell_type": "code",
   "execution_count": 35,
   "metadata": {},
   "outputs": [],
   "source": [
    "log_preds = learn.predict_dl(celebrity_dl)"
   ]
  },
  {
   "cell_type": "code",
   "execution_count": 36,
   "metadata": {},
   "outputs": [
    {
     "data": {
      "text/plain": [
       "(3256, 2)"
      ]
     },
     "execution_count": 36,
     "metadata": {},
     "output_type": "execute_result"
    }
   ],
   "source": [
    "log_preds.shape"
   ]
  },
  {
   "cell_type": "code",
   "execution_count": 37,
   "metadata": {},
   "outputs": [],
   "source": [
    "preds = np.argmax(log_preds, axis=1)\n",
    "probs = np.exp(log_preds[:,1])"
   ]
  },
  {
   "cell_type": "code",
   "execution_count": 38,
   "metadata": {},
   "outputs": [
    {
     "data": {
      "text/plain": [
       "array([1, 1, 1, ..., 1, 1, 1])"
      ]
     },
     "execution_count": 38,
     "metadata": {},
     "output_type": "execute_result"
    }
   ],
   "source": [
    "preds"
   ]
  },
  {
   "cell_type": "code",
   "execution_count": 39,
   "metadata": {},
   "outputs": [],
   "source": [
    "celebrity_df = celebrity_df.assign(sentiment=pd.Series(preds))\n",
    "celebrity_df.to_csv('/home/ubuntu/data/twitter/celebrity_tweets_results.csv', header=None, index=None)"
   ]
  },
  {
   "cell_type": "code",
   "execution_count": 2,
   "metadata": {},
   "outputs": [],
   "source": [
    "\n",
    "celebrity_df = pd.read_csv('results/celebrity_tweets_results.csv', header=None)\n",
    "celebrity_df.columns = [0, 1, 'sentiment']"
   ]
  },
  {
   "cell_type": "code",
   "execution_count": 11,
   "metadata": {},
   "outputs": [],
   "source": [
    "celebrity_to_tweets = {}\n",
    "for index, row in celebrity_df.iterrows():\n",
    "    if row[0] not in celebrity_to_tweets:\n",
    "        celebrity_to_tweets[row[0]] = []\n",
    "    elif row[1]:\n",
    "        celebrity_to_tweets[row[0]].append({\n",
    "            'tweet': row[1],\n",
    "            'sentiment': row['sentiment']\n",
    "        })"
   ]
  },
  {
   "cell_type": "code",
   "execution_count": 15,
   "metadata": {},
   "outputs": [
    {
     "name": "stdout",
     "output_type": "stream",
     "text": [
      "BarackObama 0.7585227272727273\n",
      "realDonaldTrump 0.7068965517241379\n",
      "KimKardashian 0.85\n",
      "BillGates 0.772020725388601\n",
      "Oprah 0.8575197889182058\n",
      "justinbieber 0.9529914529914529\n",
      "TheRock 0.9039039039039038\n",
      "elonmusk 0.8439306358381503\n",
      "JeffBezos 0.9559748427672956\n",
      "katyperry 0.8891752577319587\n"
     ]
    }
   ],
   "source": [
    "results = []\n",
    "for screen_name, tweets in celebrity_to_tweets.items():\n",
    "    if tweets:\n",
    "        avg_sentiment = np.mean([t['sentiment']\n",
    "                                 for t in tweets\n",
    "                                 if not pd.isnull(t['tweet'])]) # throw out the empty tweets\n",
    "        print(screen_name, avg_sentiment)\n",
    "        results.append((screen_name, avg_sentiment))"
   ]
  },
  {
   "cell_type": "markdown",
   "metadata": {},
   "source": [
    "The most postive celebrities on twitter"
   ]
  },
  {
   "cell_type": "code",
   "execution_count": 16,
   "metadata": {},
   "outputs": [
    {
     "data": {
      "text/plain": [
       "[('JeffBezos', 0.9559748427672956),\n",
       " ('justinbieber', 0.9529914529914529),\n",
       " ('TheRock', 0.9039039039039038),\n",
       " ('katyperry', 0.8891752577319587),\n",
       " ('Oprah', 0.8575197889182058),\n",
       " ('KimKardashian', 0.85),\n",
       " ('elonmusk', 0.8439306358381503),\n",
       " ('BillGates', 0.772020725388601),\n",
       " ('BarackObama', 0.7585227272727273),\n",
       " ('realDonaldTrump', 0.7068965517241379)]"
      ]
     },
     "execution_count": 16,
     "metadata": {},
     "output_type": "execute_result"
    }
   ],
   "source": [
    "results = sorted(results, key=lambda x: x[1], reverse=True)\n",
    "results"
   ]
  },
  {
   "cell_type": "code",
   "execution_count": 17,
   "metadata": {},
   "outputs": [],
   "source": [
    "import math\n",
    "\n",
    "from bokeh.io import show, output_file\n",
    "from bokeh.models import ColumnDataSource\n",
    "from bokeh.palettes import Spectral10\n",
    "from bokeh.plotting import figure\n",
    "\n",
    "output_file(\"celebrity_tweet_sentimate.html\")\n",
    "\n",
    "handles = ['@' + x[0] for x in results]\n",
    "counts = [x[1] for x in results]\n",
    "counts = [int(x) for x in np.asarray(counts) * 100]\n",
    "\n",
    "source = ColumnDataSource(data=dict(handles=handles, counts=counts, color=Spectral10))\n",
    "\n",
    "p = figure(x_range=handles, y_range=(50,100), plot_height=400, title=\"Who's the most postive public figure on Twitter?\",\n",
    "           toolbar_location=None, tools=\"\")\n",
    "\n",
    "p.vbar(x='handles', top='counts', width=0.8, color='color', source=source, )\n",
    "\n",
    "p.xaxis.major_label_orientation = -math.pi/5\n",
    "p.min_border_right = 50\n",
    "p.yaxis.axis_label = \"% of tweets that are positive\"\n",
    "p.xaxis.axis_label = \"Twitter handle\"\n",
    "\n",
    "\n",
    "p.xgrid.grid_line_color = None\n",
    "p.legend.orientation = \"horizontal\"\n",
    "p.legend.location = \"top_center\"\n",
    "\n",
    "show(p)"
   ]
  },
  {
   "cell_type": "code",
   "execution_count": null,
   "metadata": {},
   "outputs": [],
   "source": []
  }
 ],
 "metadata": {
  "kernelspec": {
   "display_name": "Python 3",
   "language": "python",
   "name": "python3"
  },
  "language_info": {
   "codemirror_mode": {
    "name": "ipython",
    "version": 3
   },
   "file_extension": ".py",
   "mimetype": "text/x-python",
   "name": "python",
   "nbconvert_exporter": "python",
   "pygments_lexer": "ipython3",
   "version": "3.6.5"
  }
 },
 "nbformat": 4,
 "nbformat_minor": 2
}
